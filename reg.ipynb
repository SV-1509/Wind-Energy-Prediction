{
 "cells": [
  {
   "cell_type": "code",
   "execution_count": 1,
   "metadata": {},
   "outputs": [],
   "source": [
    "import csv\n",
    "import os\n",
    "import numpy as np\n",
    "from sklearn import linear_model\n",
    "from sklearn.model_selection import train_test_split\n",
    "from sklearn.metrics import r2_score,mean_squared_error\n",
    "from sklearn import svm"
   ]
  },
  {
   "cell_type": "code",
   "execution_count": 2,
   "metadata": {},
   "outputs": [],
   "source": [
    "classifiers = [\n",
    "    svm.SVR(),\n",
    "    linear_model.SGDRegressor(),\n",
    "    linear_model.BayesianRidge(),\n",
    "    linear_model.LassoLars(),\n",
    "    linear_model.ARDRegression(),\n",
    "    linear_model.PassiveAggressiveRegressor(),\n",
    "    linear_model.TheilSenRegressor(),\n",
    "    linear_model.LinearRegression()]"
   ]
  },
  {
   "cell_type": "code",
   "execution_count": 3,
   "metadata": {},
   "outputs": [],
   "source": [
    "file = open('T.csv')\n",
    "csv_reader = csv.reader(file)\n",
    "next(csv_reader)\n",
    "ip=[]\n",
    "op=[]\n",
    "for row in csv_reader:\n",
    "    temp=[]\n",
    "    i=float(row[2])\n",
    "    j=float(row[4])\n",
    "    k=float(row[1])\n",
    "    temp.append(i)\n",
    "    temp.append(j)\n",
    "    ip.append(temp)\n",
    "    op.append(k)"
   ]
  },
  {
   "cell_type": "code",
   "execution_count": 4,
   "metadata": {},
   "outputs": [],
   "source": [
    "ip=np.array(ip)\n",
    "op=np.array(op)"
   ]
  },
  {
   "cell_type": "code",
   "execution_count": 5,
   "metadata": {},
   "outputs": [],
   "source": [
    "X_train, X_test, y_train, y_test = train_test_split(ip, op, test_size=0.3)"
   ]
  },
  {
   "cell_type": "code",
   "execution_count": 6,
   "metadata": {},
   "outputs": [
    {
     "name": "stdout",
     "output_type": "stream",
     "text": [
      "SVR()\n",
      "R2 score = -0.00483019212683522 \n",
      "Root mean squared error = 1311.108319962811 \n",
      "SGDRegressor()\n",
      "R2 score = -1.0285905907301181e+19 \n",
      "Root mean squared error = 4194821729356.463 \n",
      "BayesianRidge()\n",
      "R2 score = 0.8377132515012434 \n",
      "Root mean squared error = 526.9067533084307 \n",
      "LassoLars()\n",
      "R2 score = 0.8169954638723755 \n",
      "Root mean squared error = 559.5297242270875 \n",
      "ARDRegression()\n",
      "R2 score = 0.8377201608731194 \n",
      "Root mean squared error = 526.8955366395197 \n",
      "PassiveAggressiveRegressor()\n",
      "R2 score = 0.3861601751199487 \n",
      "Root mean squared error = 1024.7543394164343 \n",
      "TheilSenRegressor(max_subpopulation=10000)\n",
      "R2 score = 0.8291230701709612 \n",
      "Root mean squared error = 540.6720901641148 \n",
      "LinearRegression()\n",
      "R2 score = 0.8377132519857997 \n",
      "Root mean squared error = 526.9067525218107 \n"
     ]
    }
   ],
   "source": [
    "for item in classifiers:\n",
    "    print(item)\n",
    "    model = item\n",
    "    model.fit(X_train, y_train)\n",
    "    y_pred = model.predict(X_test)\n",
    "    r2 = r2_score(y_test, y_pred)\n",
    "    rmse = mean_squared_error(y_test, y_pred,squared=False)\n",
    "    print(\"R2 score = {} \\nRoot mean squared error = {} \".format(r2,rmse))"
   ]
  },
  {
   "cell_type": "code",
   "execution_count": null,
   "metadata": {},
   "outputs": [],
   "source": []
  },
  {
   "cell_type": "code",
   "execution_count": null,
   "metadata": {},
   "outputs": [],
   "source": []
  }
 ],
 "metadata": {
  "kernelspec": {
   "display_name": "Python 3",
   "language": "python",
   "name": "python3"
  },
  "language_info": {
   "codemirror_mode": {
    "name": "ipython",
    "version": 3
   },
   "file_extension": ".py",
   "mimetype": "text/x-python",
   "name": "python",
   "nbconvert_exporter": "python",
   "pygments_lexer": "ipython3",
   "version": "3.6.9"
  }
 },
 "nbformat": 4,
 "nbformat_minor": 4
}
